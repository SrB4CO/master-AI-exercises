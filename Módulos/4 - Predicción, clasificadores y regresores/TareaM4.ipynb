{
 "cells": [
  {
   "cell_type": "markdown",
   "metadata": {
    "id": "vHBy61Oq204V"
   },
   "source": [
    "# Tarea individual del módulo 4 - Food 101"
   ]
  },
  {
   "cell_type": "markdown",
   "metadata": {
    "id": "xLrlapj06Wmb"
   },
   "source": [
    " ### Alumno: Dionisio Moreno Cañas"
   ]
  },
  {
   "cell_type": "markdown",
   "metadata": {
    "id": "xZvQnM5rpMhD"
   },
   "source": [
    "## Librerías"
   ]
  },
  {
   "cell_type": "code",
   "execution_count": 1,
   "metadata": {
    "id": "JHPwWffspMhI"
   },
   "outputs": [],
   "source": [
    "#Aqui se deberian añadir librerias addicionales o eliminar las no necesarias\n",
    "import os\n",
    "import time\n",
    "import random\n",
    "import pandas as pd\n",
    "import json\n",
    "import numpy as np\n",
    "import mahotas #conda install -c conda-forge mahotas\n",
    "import cv2 # pip install opencv-python\n",
    "\n",
    "from sklearn.linear_model import LogisticRegression\n",
    "from sklearn.tree import DecisionTreeClassifier\n",
    "from sklearn.ensemble import RandomForestClassifier\n",
    "from sklearn.neighbors import KNeighborsClassifier\n",
    "from sklearn.naive_bayes import GaussianNB\n",
    "from sklearn.svm import SVC\n",
    "\n",
    "from sklearn.model_selection import cross_val_score, cross_validate\n",
    "from sklearn.preprocessing import MinMaxScaler\n",
    "from sklearn.model_selection import GridSearchCV\n",
    "from sklearn.metrics import confusion_matrix, classification_report, plot_roc_curve\n",
    "\n",
    "#Añadidos\n",
    "from matplotlib import pyplot as plt\n",
    "import math\n",
    "\n",
    "import warnings\n",
    "warnings.filterwarnings('ignore')"
   ]
  },
  {
   "cell_type": "markdown",
   "metadata": {
    "id": "_RrW_bOipMhK"
   },
   "source": [
    "### Funciones de ayuda"
   ]
  },
  {
   "cell_type": "code",
   "execution_count": 2,
   "metadata": {
    "id": "E_ZUDkuJpMhJ"
   },
   "outputs": [],
   "source": [
    "# path absoluto donde encontrar el dataset elegido \n",
    "#https://www.tensorflow.org/datasets/catalog/food101\n",
    "data_dir = \"./datasets/food-101\"\n",
    "\n",
    "# make a fix file size\n",
    "fixed_size  = tuple((500,500))\n",
    "\n",
    "#En caso de que necesitemos limitar el numero de imagenes por clase \n",
    "max_img_per_label = 1000\n",
    "\n",
    "#division del dataset  **modificar\n",
    "percentage_train = 0.90\n",
    "percentage_test = 0.10\n"
   ]
  },
  {
   "cell_type": "code",
   "execution_count": 3,
   "metadata": {
    "id": "fgFAwTTRpMhK"
   },
   "outputs": [],
   "source": [
    "# features description - 1:  Hu Moments\n",
    "def fd_hu_moments(image):\n",
    "    image = cv2.cvtColor(image, cv2.COLOR_BGR2GRAY)\n",
    "    feature = cv2.HuMoments(cv2.moments(image)).flatten()\n",
    "    return feature\n",
    "\n",
    "# feature-descriptor - 2 Haralick Texture \n",
    "def fd_haralick(image):\n",
    "    # conver the image to grayscale\n",
    "    gray = cv2.cvtColor(image,cv2.COLOR_BGR2GRAY)\n",
    "    # Ccompute the haralick texture fetature ve tor \n",
    "    haralic = mahotas.features.haralick(gray).mean(axis=0)\n",
    "    return haralic\n",
    "\n",
    "# feature-description - 3 Color Histogram\n",
    "def fd_histogram(image, mask=None):\n",
    "    # bins for histograms \n",
    "    bins = 8\n",
    "    # conver the image to HSV colors-space\n",
    "    image = cv2.cvtColor(image, cv2.COLOR_BGR2HSV)\n",
    "    #COPUTE THE COLOR HISTPGRAM\n",
    "    hist  = cv2.calcHist([image],[0,1,2],None,[bins,bins,bins], [0, 256, 0, 256, 0, 256])\n",
    "    # normalize the histogram\n",
    "    cv2.normalize(hist,hist)\n",
    "    # return the histog....\n",
    "    return hist.flatten()\n",
    "\n",
    "def listdir_nohidden(path):\n",
    "    for f in os.listdir(path):\n",
    "        if not f.startswith('.'):\n",
    "            yield f\n",
    "            \n",
    "# Load_json function use to read in train.json and test.json\n",
    "# and only take data according to class_label variable\n",
    "def load_json(path):\n",
    "    final_data = dict()\n",
    "    # Load in json file to create dictionary: key = class label; value = file path\n",
    "    with open(path, 'r') as file:\n",
    "        data = json.load(file)\n",
    "    # Only get information from needed class\n",
    "    for label in class_label:\n",
    "        final_data.update({label : data.get(label)})\n",
    "    return final_data        \n",
    "\n",
    "# Make a dataframe have all image name and its label\n",
    "def create_data(json_data, max_img_per_label = 100):\n",
    "    # Create train data\n",
    "    file_names_list = []\n",
    "    label_list = []\n",
    "    for label in json_data.keys():\n",
    "        #file_names = os.listdir(data_dir + '/images/' + label)\n",
    "        file_names = json_data.get(label)\n",
    "        i = 0\n",
    "        for file in file_names:\n",
    "            file = data_dir + '/images/' + file.replace('/', '//') + '.jpg'\n",
    "            file_names_list.append(file)\n",
    "            label_list.append(class_label.get(label))\n",
    "            i += 1\n",
    "            if i >= max_img_per_label:\n",
    "                break\n",
    "    # Create dataframe\n",
    "    data_df = pd.DataFrame({\n",
    "        'filename' : file_names_list,\n",
    "        'label' : label_list\n",
    "    })\n",
    "    return data_df\n",
    "\n",
    "def get_train_df():\n",
    "    # load json file\n",
    "    train_json = load_json(data_dir + '/meta/train.json')\n",
    "    # Create dataframe for train\n",
    "    train_df = create_data(train_json, max_img_per_label * percentage_train)\n",
    "    return train_df\n",
    "\n",
    "def get_test_df():\n",
    "    # load json file\n",
    "    train_json = load_json(data_dir + '/meta/test.json')\n",
    "    # Create dataframe for train\n",
    "    train_df = create_data(train_json, max_img_per_label * percentage_test)\n",
    "    return train_df\n",
    "\n",
    "# get data processing\n",
    "def getDataProcessing(df):\n",
    "    train_features = []\n",
    "    train_labels = []\n",
    "    i = 0\n",
    "    print('Start data processing with', len(df), 'images...')\n",
    "    for currentImgPath in df['filename']:\n",
    "        # read the image and resize it to a fixed-size\n",
    "        image = cv2.imread(currentImgPath)\n",
    "        if image is not None:\n",
    "            image = cv2.resize(image, fixed_size)\n",
    "            fv_hu_moments = fd_hu_moments(image)\n",
    "            fv_haralick   = fd_haralick(image)\n",
    "            fv_histogram  = fd_histogram(image)\n",
    "        train_labels.append(df['label'].array[i])\n",
    "        train_features.append(np.hstack([fv_histogram, fv_haralick, fv_hu_moments]))\n",
    "        i += 1\n",
    "    \n",
    "    print('Data processing finished.')     \n",
    "    return train_features, train_labels\n",
    "    \n",
    "def getKeysByValue(dictOfElements, valueToFind):\n",
    "    listOfKeys = list()\n",
    "    listOfItems = dictOfElements.items()\n",
    "    for item  in listOfItems:\n",
    "        if item[1] == valueToFind:\n",
    "            listOfKeys.append(item[0])\n",
    "    return  listOfKeys\n"
   ]
  },
  {
   "cell_type": "markdown",
   "metadata": {},
   "source": [
    "# DATASET Y VARIABLE A MODELAR"
   ]
  },
  {
   "cell_type": "markdown",
   "metadata": {},
   "source": [
    "Por simplicidad, para el estudio y desarrollo de este ejemplo, vamos a enfocar nuestro problema a la distinción de 2 tipos de dulces (Clasificación binaria). Queremos diferenciar las dos opciones habituales de Andrés a las que recurre como postre."
   ]
  },
  {
   "cell_type": "code",
   "execution_count": 4,
   "metadata": {},
   "outputs": [],
   "source": [
    "class_label = {\n",
    "    \"carrot_cake\" : 0, \n",
    "    \"chocolate_cake\" : 1\n",
    "}"
   ]
  },
  {
   "cell_type": "markdown",
   "metadata": {},
   "source": [
    "Configuramos nuestra ruta del dataset, el % de reparto de nuestros datos para entrenar y testear, así como el tamaño homogéneo para nuestras imágenes."
   ]
  },
  {
   "cell_type": "markdown",
   "metadata": {},
   "source": [
    "A continuación, obtenemos el dataset."
   ]
  },
  {
   "cell_type": "code",
   "execution_count": 5,
   "metadata": {
    "id": "Vy-GgEtGpMhL",
    "scrolled": true
   },
   "outputs": [
    {
     "name": "stdout",
     "output_type": "stream",
     "text": [
      "Start data processing with 1500 images...\n",
      "Data processing finished.\n",
      "Start data processing with 200 images...\n",
      "Data processing finished.\n"
     ]
    }
   ],
   "source": [
    "# Training\n",
    "train_data_frame = get_train_df()\n",
    "train_features, train_labels = getDataProcessing(train_data_frame)\n",
    "\n",
    "#Test\n",
    "test_data_frame = get_test_df()\n",
    "test_features, test_labels = getDataProcessing(test_data_frame)"
   ]
  },
  {
   "cell_type": "code",
   "execution_count": 6,
   "metadata": {},
   "outputs": [],
   "source": [
    "# Raw data\n",
    "X_train = train_features\n",
    "y_train = train_labels\n",
    "X_test = test_features\n",
    "y_test = test_labels"
   ]
  },
  {
   "cell_type": "markdown",
   "metadata": {},
   "source": [
    "# ALGORITMOS"
   ]
  },
  {
   "cell_type": "markdown",
   "metadata": {},
   "source": [
    "Hacemos un sondeo inicial con las variables en bruto sobre un los algoritmos más típicos vistos en este módulo. Posteriormente, visualizamos de manera superficial los resultados."
   ]
  },
  {
   "cell_type": "code",
   "execution_count": 7,
   "metadata": {},
   "outputs": [],
   "source": [
    "num_trees = 10\n",
    "seed      = 9\n",
    "scoring    = \"accuracy\"\n",
    "\n",
    "# create all the machine learning models\n",
    "models = []\n",
    "models.append(('CART', DecisionTreeClassifier(random_state=seed)))\n",
    "models.append(('RF', RandomForestClassifier(n_estimators=num_trees, random_state=seed)))\n",
    "models.append(('KNN', KNeighborsClassifier()))\n",
    "models.append(('LR', LogisticRegression(random_state=seed)))\n",
    "models.append(('NB', GaussianNB()))\n",
    "models.append(('SVM', SVC(random_state=seed)))\n",
    "#models.append(('LDA', LinearDiscriminantAnalysis()))"
   ]
  },
  {
   "cell_type": "code",
   "execution_count": 8,
   "metadata": {},
   "outputs": [
    {
     "name": "stdout",
     "output_type": "stream",
     "text": [
      "CART: 0.720000 \n",
      "RF: 0.775000 \n",
      "KNN: 0.590000 \n",
      "LR: 0.750000 \n",
      "NB: 0.660000 \n",
      "SVM: 0.645000 \n"
     ]
    }
   ],
   "source": [
    "results = []\n",
    "names   = []\n",
    "\n",
    "for name, model in models:\n",
    "    model.fit(X_train, y_train)\n",
    "    msg = \"%s: %f \" % (name, model.score(X_test, y_test))\n",
    "    print(msg)"
   ]
  },
  {
   "cell_type": "markdown",
   "metadata": {},
   "source": [
    "## Tareas"
   ]
  },
  {
   "cell_type": "markdown",
   "metadata": {},
   "source": [
    "En primer lugar, y tras la prueba inicial, recurrimos a la **validación cruzada** (tarea 1) para obtener unos resultados con un mayor grado de confianza."
   ]
  },
  {
   "cell_type": "code",
   "execution_count": 9,
   "metadata": {},
   "outputs": [
    {
     "name": "stdout",
     "output_type": "stream",
     "text": [
      "CART \n",
      " Accuracy: 0.651333 \n",
      " Precision: 0.653152 \n",
      " Recall: 0.649333 \n",
      " F1: 0.650711 \n",
      " score_time: 0.003104 \n",
      " fit_time: 0.261303\n",
      "RF \n",
      " Accuracy: 0.690000 \n",
      " Precision: 0.723200 \n",
      " Recall: 0.617333 \n",
      " F1: 0.664572 \n",
      " score_time: 0.004701 \n",
      " fit_time: 0.094102\n",
      "KNN \n",
      " Accuracy: 0.580000 \n",
      " Precision: 0.586511 \n",
      " Recall: 0.552000 \n",
      " F1: 0.568129 \n",
      " score_time: 0.025799 \n",
      " fit_time: 0.142598\n",
      "LR \n",
      " Accuracy: 0.650667 \n",
      " Precision: 0.661918 \n",
      " Recall: 0.618667 \n",
      " F1: 0.638579 \n",
      " score_time: 0.003095 \n",
      " fit_time: 0.048603\n",
      "NB \n",
      " Accuracy: 0.665333 \n",
      " Precision: 0.728955 \n",
      " Recall: 0.524000 \n",
      " F1: 0.608488 \n",
      " score_time: 0.003799 \n",
      " fit_time: 0.023801\n",
      "SVM \n",
      " Accuracy: 0.607333 \n",
      " Precision: 0.621173 \n",
      " Recall: 0.556000 \n",
      " F1: 0.586031 \n",
      " score_time: 0.135609 \n",
      " fit_time: 1.340595\n"
     ]
    },
    {
     "data": {
      "image/png": "[encoded data removed]",
      "text/plain": [
       "<Figure size 432x288 with 1 Axes>"
      ]
     },
     "metadata": {
      "needs_background": "light"
     },
     "output_type": "display_data"
    }
   ],
   "source": [
    "results = []\n",
    "names   = []\n",
    "\n",
    "for name, model in models:\n",
    "    cv_results = cross_validate(model, X_train, y_train, cv=10, scoring=['accuracy', 'precision', 'recall','f1'])\n",
    "    results.append(cv_results.get('test_f1'))\n",
    "    names.append(name)\n",
    "    \n",
    "    msg = \"%s \\n Accuracy: %f \\n Precision: %f \\n Recall: %f \\n F1: %f \\n score_time: %f \\n fit_time: %f\" % (name, cv_results.get('test_accuracy').mean(), \n",
    "                                     cv_results.get('test_precision').mean(),\n",
    "                                     cv_results.get('test_recall').mean(),\n",
    "                                     cv_results.get('test_f1').mean(),\n",
    "                                     cv_results.get('score_time').mean(),\n",
    "                                     cv_results.get('fit_time').mean())   \n",
    "    \n",
    "    print(msg)\n",
    "\n",
    "# boxplot algorithm comparison\n",
    "fig = plt.figure()\n",
    "fig.suptitle('Machine Learning algorithm comparison')\n",
    "ax = fig.add_subplot(111)\n",
    "plt.boxplot(results)\n",
    "ax.set_xticklabels(names)\n",
    "plt.show()"
   ]
  },
  {
   "cell_type": "markdown",
   "metadata": {},
   "source": [
    "En este vistazo un poquito más detallado, podemos ver que existen ciertas diferencias entre ellos, tales como los valores de las métricas de clasificación, variabilidad, o diferencias en tiempo para su cómputo.\n",
    "\n",
    "Después de esta prueba inicial, realizaremos algunas operaciones para continuar analizando nuestros modelos y ver si podemos conseguir que mejore nuestra clasificación.\n",
    "\n",
    "Para empezar, **normalizamos los valores de nuestros datos** (tarea 2)."
   ]
  },
  {
   "cell_type": "code",
   "execution_count": 11,
   "metadata": {},
   "outputs": [],
   "source": [
    "scaler = MinMaxScaler(feature_range=(0, 1))\n",
    "scaled_train_feature = scaler.fit_transform(train_features)\n",
    "scaled_test_feature = scaler.fit_transform(test_features)"
   ]
  },
  {
   "cell_type": "code",
   "execution_count": 12,
   "metadata": {},
   "outputs": [],
   "source": [
    "# Scaled data\n",
    "X_train = scaled_train_feature\n",
    "y_train = train_labels\n",
    "X_test = scaled_test_feature\n",
    "y_test = test_labels"
   ]
  },
  {
   "cell_type": "code",
   "execution_count": 13,
   "metadata": {},
   "outputs": [
    {
     "name": "stdout",
     "output_type": "stream",
     "text": [
      "CART \n",
      " Accuracy: 0.648667 \n",
      " Precision: 0.649678 \n",
      " Recall: 0.652000 \n",
      " F1: 0.649754 \n",
      " score_time: 0.003204 \n",
      " fit_time: 0.265196\n",
      "RF \n",
      " Accuracy: 0.676000 \n",
      " Precision: 0.708930 \n",
      " Recall: 0.602667 \n",
      " F1: 0.650287 \n",
      " score_time: 0.005198 \n",
      " fit_time: 0.096895\n",
      "KNN \n",
      " Accuracy: 0.646667 \n",
      " Precision: 0.654450 \n",
      " Recall: 0.618667 \n",
      " F1: 0.634551 \n",
      " score_time: 0.237702 \n",
      " fit_time: 0.141401\n",
      "LR \n",
      " Accuracy: 0.744667 \n",
      " Precision: 0.761567 \n",
      " Recall: 0.713333 \n",
      " F1: 0.736194 \n",
      " score_time: 0.002397 \n",
      " fit_time: 0.056200\n",
      "NB \n",
      " Accuracy: 0.567333 \n",
      " Precision: 0.648235 \n",
      " Recall: 0.293333 \n",
      " F1: 0.401930 \n",
      " score_time: 0.003502 \n",
      " fit_time: 0.022501\n",
      "SVM \n",
      " Accuracy: 0.746000 \n",
      " Precision: 0.759579 \n",
      " Recall: 0.722667 \n",
      " F1: 0.739957 \n",
      " score_time: 0.120210 \n",
      " fit_time: 1.143999\n"
     ]
    },
    {
     "data": {
      "image/png": "[encoded data removed]",
      "text/plain": [
       "<Figure size 432x288 with 1 Axes>"
      ]
     },
     "metadata": {
      "needs_background": "light"
     },
     "output_type": "display_data"
    }
   ],
   "source": [
    "results = []\n",
    "names   = []\n",
    "\n",
    "for name, model in models:\n",
    "    cv_results = cross_validate(model, X_train, y_train, cv=10, scoring=['accuracy', 'precision', 'recall','f1'])\n",
    "    results.append(cv_results.get('test_f1'))\n",
    "    names.append(name)\n",
    "    \n",
    "    msg = \"%s \\n Accuracy: %f \\n Precision: %f \\n Recall: %f \\n F1: %f \\n score_time: %f \\n fit_time: %f\" % (name, cv_results.get('test_accuracy').mean(), \n",
    "                                     cv_results.get('test_precision').mean(),\n",
    "                                     cv_results.get('test_recall').mean(),\n",
    "                                     cv_results.get('test_f1').mean(),\n",
    "                                     cv_results.get('score_time').mean(),\n",
    "                                     cv_results.get('fit_time').mean())   \n",
    "    \n",
    "    print(msg)\n",
    "\n",
    "# boxplot algorithm comparison\n",
    "fig = plt.figure()\n",
    "fig.suptitle('Machine Learning algorithm comparison')\n",
    "ax = fig.add_subplot(111)\n",
    "plt.boxplot(results)\n",
    "ax.set_xticklabels(names)\n",
    "plt.show()"
   ]
  },
  {
   "cell_type": "markdown",
   "metadata": {},
   "source": [
    "Como podemos observar, simplemente con esa sencilla operación, alguno de nuestros clasificadores tienen una mejora considerable.\n",
    "\n",
    "Aunque por otro lado, por ejemplo NB (Gaussian), ha bajado.\n",
    "\n",
    "Para nuestro estudio seleccionaremos el modelo que más ha mejorado (KNN), el que más ha bajado (NB) y uno de los mejores F1 (SVM)."
   ]
  },
  {
   "cell_type": "markdown",
   "metadata": {},
   "source": [
    "### 4.1. KNN"
   ]
  },
  {
   "cell_type": "markdown",
   "metadata": {},
   "source": [
    "Para el estudio de KNN, con el objetivo de conseguir una mejora, comenzaremos con su hiperparámetro más conocido -> k"
   ]
  },
  {
   "cell_type": "code",
   "execution_count": 14,
   "metadata": {
    "id": "mr0uOXp9pMhL"
   },
   "outputs": [
    {
     "name": "stdout",
     "output_type": "stream",
     "text": [
      "F1 mean: 0.6182928885428567\n"
     ]
    }
   ],
   "source": [
    "knn = KNeighborsClassifier(n_neighbors=3)\n",
    "knn.fit(X_train, y_train)\n",
    "cv_scores = cross_val_score(knn, X_train, y_train, cv=10, scoring='f1')\n",
    "print('F1 mean: {}'.format(np.mean(cv_scores)))"
   ]
  },
  {
   "cell_type": "code",
   "execution_count": 15,
   "metadata": {
    "id": "mr0uOXp9pMhL"
   },
   "outputs": [
    {
     "name": "stdout",
     "output_type": "stream",
     "text": [
      "F1 mean: 0.6350847678036315\n"
     ]
    }
   ],
   "source": [
    "knn = KNeighborsClassifier(n_neighbors=7)\n",
    "knn.fit(X_train, y_train)\n",
    "cv_scores = cross_val_score(knn, X_train, y_train, cv=10, scoring='f1')\n",
    "print('F1 mean: {}'.format(np.mean(cv_scores)))"
   ]
  },
  {
   "cell_type": "code",
   "execution_count": 16,
   "metadata": {
    "id": "mr0uOXp9pMhL"
   },
   "outputs": [
    {
     "name": "stdout",
     "output_type": "stream",
     "text": [
      "F1 mean: 0.6474904967843305\n"
     ]
    }
   ],
   "source": [
    "knn = KNeighborsClassifier(n_neighbors=15)\n",
    "knn.fit(X_train, y_train)\n",
    "cv_scores = cross_val_score(knn, X_train, y_train, cv=10, scoring='f1')\n",
    "print('F1 mean: {}'.format(np.mean(cv_scores)))"
   ]
  },
  {
   "cell_type": "code",
   "execution_count": 17,
   "metadata": {
    "id": "mr0uOXp9pMhL"
   },
   "outputs": [
    {
     "name": "stdout",
     "output_type": "stream",
     "text": [
      "F1 mean: 0.6596285749443306\n"
     ]
    }
   ],
   "source": [
    "knn = KNeighborsClassifier(n_neighbors=21)\n",
    "knn.fit(X_train, y_train)\n",
    "cv_scores = cross_val_score(knn, X_train, y_train, cv=10, scoring='f1')\n",
    "print('F1 mean: {}'.format(np.mean(cv_scores)))"
   ]
  },
  {
   "cell_type": "code",
   "execution_count": 18,
   "metadata": {
    "id": "mr0uOXp9pMhL"
   },
   "outputs": [
    {
     "name": "stdout",
     "output_type": "stream",
     "text": [
      "F1 mean: 0.6490959161640232\n"
     ]
    }
   ],
   "source": [
    "knn = KNeighborsClassifier(n_neighbors=51)\n",
    "knn.fit(X_train, y_train)\n",
    "cv_scores = cross_val_score(knn, X_train, y_train, cv=10, scoring='f1')\n",
    "print('F1 mean: {}'.format(np.mean(cv_scores)))"
   ]
  },
  {
   "cell_type": "markdown",
   "metadata": {},
   "source": [
    "Tras estas 5 pruebas, observamos que **nuestro modelo ha mejorado un poco**, pero tampoco excesivamente. Y aparentemente esta mejora estaba empezando a frenar.\n",
    "\n",
    "Por tanto, pasamos al estudio de otro de sus **otros parámetros, la función de pesos**.\n",
    "Por defecto esta función es 'uniform', por lo que haremos una prueba basándonos en las distancias entre elementos."
   ]
  },
  {
   "cell_type": "code",
   "execution_count": 19,
   "metadata": {
    "id": "mr0uOXp9pMhL"
   },
   "outputs": [
    {
     "name": "stdout",
     "output_type": "stream",
     "text": [
      "F1 mean: 0.6579316457793136\n"
     ]
    }
   ],
   "source": [
    "knn = KNeighborsClassifier(n_neighbors=21, weights='distance')\n",
    "knn.fit(X_train, y_train)\n",
    "cv_scores = cross_val_score(knn, X_train, y_train, cv=10, scoring='f1')\n",
    "print('F1 mean: {}'.format(np.mean(cv_scores)))"
   ]
  },
  {
   "cell_type": "markdown",
   "metadata": {},
   "source": [
    "Sin ser una gran mejora, este cambio también ha ayudado a nuestro modelo a subir 1 punto. \n",
    "\n",
    "Vayamjos con el **siguiente parámetro -> algorithm**.\n",
    "\n",
    "Probaremos las 3 opciones restantes a 'auto' que nos presenta este parámetro para definir el algoritmo a utilizar."
   ]
  },
  {
   "cell_type": "code",
   "execution_count": 20,
   "metadata": {
    "id": "mr0uOXp9pMhL"
   },
   "outputs": [
    {
     "name": "stdout",
     "output_type": "stream",
     "text": [
      "F1 mean: 0.6521347742564475\n"
     ]
    }
   ],
   "source": [
    "knn = KNeighborsClassifier(n_neighbors=51, weights='distance', algorithm='ball_tree')\n",
    "knn.fit(X_train, y_train)\n",
    "cv_scores = cross_val_score(knn, X_train, y_train, cv=10, scoring='f1')\n",
    "print('F1 mean: {}'.format(np.mean(cv_scores)))"
   ]
  },
  {
   "cell_type": "code",
   "execution_count": 21,
   "metadata": {
    "id": "mr0uOXp9pMhL"
   },
   "outputs": [
    {
     "name": "stdout",
     "output_type": "stream",
     "text": [
      "F1 mean: 0.6521347742564475\n"
     ]
    }
   ],
   "source": [
    "knn = KNeighborsClassifier(n_neighbors=51, weights='distance', algorithm='kd_tree')\n",
    "knn.fit(X_train, y_train)\n",
    "cv_scores = cross_val_score(knn, X_train, y_train, cv=10, scoring='f1')\n",
    "print('F1 mean: {}'.format(np.mean(cv_scores)))"
   ]
  },
  {
   "cell_type": "code",
   "execution_count": 22,
   "metadata": {
    "id": "mr0uOXp9pMhL"
   },
   "outputs": [
    {
     "name": "stdout",
     "output_type": "stream",
     "text": [
      "F1 mean: 0.6521347742564475\n"
     ]
    }
   ],
   "source": [
    "knn = KNeighborsClassifier(n_neighbors=51, weights='distance', algorithm='brute')\n",
    "knn.fit(X_train, y_train)\n",
    "cv_scores = cross_val_score(knn, X_train, y_train, cv=10, scoring='f1')\n",
    "print('F1 mean: {}'.format(np.mean(cv_scores)))"
   ]
  },
  {
   "cell_type": "markdown",
   "metadata": {},
   "source": [
    "Podemos observar, que en este caso los resultados son idénticos para las diferentes opciones.\n",
    "Aún así, probaremos como afecta **leaf_size** para BallTree (también aplicable para KDTree)"
   ]
  },
  {
   "cell_type": "code",
   "execution_count": 23,
   "metadata": {},
   "outputs": [
    {
     "name": "stdout",
     "output_type": "stream",
     "text": [
      "F1 mean: 0.6521347742564475\n"
     ]
    }
   ],
   "source": [
    "knn = KNeighborsClassifier(n_neighbors=51, weights='distance', algorithm='ball_tree', leaf_size=10)\n",
    "knn.fit(X_train, y_train)\n",
    "cv_scores = cross_val_score(knn, X_train, y_train, cv=10, scoring='f1')\n",
    "print('F1 mean: {}'.format(np.mean(cv_scores)))"
   ]
  },
  {
   "cell_type": "code",
   "execution_count": 24,
   "metadata": {},
   "outputs": [
    {
     "name": "stdout",
     "output_type": "stream",
     "text": [
      "F1 mean: 0.6521347742564475\n"
     ]
    }
   ],
   "source": [
    "knn = KNeighborsClassifier(n_neighbors=51, weights='distance', algorithm='ball_tree', leaf_size=100)\n",
    "knn.fit(X_train, y_train)\n",
    "cv_scores = cross_val_score(knn, X_train, y_train, cv=10, scoring='f1')\n",
    "print('F1 mean: {}'.format(np.mean(cv_scores)))"
   ]
  },
  {
   "cell_type": "markdown",
   "metadata": {},
   "source": [
    "Donde podemos ver, que tanto para valores superiores, como inferiores, no hemos tenido ningún cambio en nuestro caso de uso."
   ]
  },
  {
   "cell_type": "markdown",
   "metadata": {},
   "source": [
    "A continuación, modificaremos los valores de **p** y **metric**.\n",
    "Por defecto, se utiliza la generalización de 'minkowski' como métrica con p=2 (distancia Euclídea).\n",
    "Para nuestra prueba seleccionaremos p=1 (manhattan) y p=3. \n",
    "\n",
    "Durante alguna de estas pruebas, se percibe como el tiempo de ejecución incrementa considerablemente, por lo que realizaremos un pequeño control de dicho tiempo."
   ]
  },
  {
   "cell_type": "code",
   "execution_count": 25,
   "metadata": {
    "id": "mr0uOXp9pMhL"
   },
   "outputs": [
    {
     "name": "stdout",
     "output_type": "stream",
     "text": [
      "F1 mean: 0.7325263904315646\n",
      "Tiempo empleado: 3760 ms\n"
     ]
    }
   ],
   "source": [
    "init = round(time.time() * 1000)\n",
    "knn = KNeighborsClassifier(n_neighbors=51, weights='distance', p=1)\n",
    "knn.fit(X_train, y_train)\n",
    "cv_scores = cross_val_score(knn, X_train, y_train, cv=10, scoring='f1')\n",
    "print('F1 mean: {}'.format(np.mean(cv_scores)))\n",
    "end = round(time.time() * 1000)\n",
    "print('Tiempo empleado: %i ms' %(end - init))"
   ]
  },
  {
   "cell_type": "code",
   "execution_count": 26,
   "metadata": {
    "id": "mr0uOXp9pMhL"
   },
   "outputs": [
    {
     "name": "stdout",
     "output_type": "stream",
     "text": [
      "F1 mean: 0.5876480603650921\n",
      "Tiempo empleado: 28074 ms\n"
     ]
    }
   ],
   "source": [
    "init = round(time.time() * 1000)\n",
    "knn = KNeighborsClassifier(n_neighbors=51, weights='distance', p=3)\n",
    "knn.fit(X_train, y_train)\n",
    "cv_scores = cross_val_score(knn, X_train, y_train, cv=10, scoring='f1')\n",
    "print('F1 mean: {}'.format(np.mean(cv_scores)))\n",
    "end = round(time.time() * 1000)\n",
    "print('Tiempo empleado: %i ms' %(end - init))"
   ]
  },
  {
   "cell_type": "markdown",
   "metadata": {},
   "source": [
    "En la ejecución se observa como el incremento de p requiere un coste computacional mayor -> mayor tiempo (en este caso, sin beneficio), en contraposición a p=1 que consigue un mejor resultado, aunque liviano.\n",
    "\n",
    "Algunos de los parámetros anteriormente tratados, al igual que el anterior para p=3, hacen que nuestro modelo tenga en esta etapa de entrenamiento un costo computacional y temporal superior , que aunque en este estudio no se ha afinado, según las necesidades de nuestro problema puede ser un factor crucial.\n",
    "\n",
    "Valores para n_neighbors, p, o incluso el algoritmo a utilizar, pueden ser algunos de estos.\n",
    "\n",
    "Por último **n_jobs**, hace alusión al grado de paralelismo de trabajo, por lo que también está relacionado, indicando un valor de -1, seleccionaremos todos los núcleos disponibles."
   ]
  },
  {
   "cell_type": "code",
   "execution_count": 27,
   "metadata": {
    "id": "mr0uOXp9pMhL"
   },
   "outputs": [
    {
     "name": "stdout",
     "output_type": "stream",
     "text": [
      "F1 mean: 0.7325263904315646\n",
      "Tiempo empleado: 5513 ms\n"
     ]
    }
   ],
   "source": [
    "init = round(time.time() * 1000)\n",
    "knn = KNeighborsClassifier(n_neighbors=51, weights='distance', p=1, n_jobs=-1)\n",
    "knn.fit(X_train, y_train)\n",
    "cv_scores = cross_val_score(knn, X_train, y_train, cv=10, scoring='f1')\n",
    "print('F1 mean: {}'.format(np.mean(cv_scores)))\n",
    "end = round(time.time() * 1000)\n",
    "print('Tiempo empleado: %i ms' %(end - init))"
   ]
  },
  {
   "cell_type": "code",
   "execution_count": 28,
   "metadata": {
    "id": "mr0uOXp9pMhL"
   },
   "outputs": [
    {
     "name": "stdout",
     "output_type": "stream",
     "text": [
      "F1 mean: 0.5876480603650921\n",
      "Tiempo empleado: 9453 ms\n"
     ]
    }
   ],
   "source": [
    "init = round(time.time() * 1000)\n",
    "knn = KNeighborsClassifier(n_neighbors=51, weights='distance', p=3, n_jobs=-1)\n",
    "knn.fit(X_train, y_train)\n",
    "cv_scores = cross_val_score(knn, X_train, y_train, cv=10, scoring='f1')\n",
    "print('F1 mean: {}'.format(np.mean(cv_scores)))\n",
    "end = round(time.time() * 1000)\n",
    "print('Tiempo empleado: %i ms' %(end - init))"
   ]
  },
  {
   "cell_type": "markdown",
   "metadata": {
    "id": "mr0uOXp9pMhL"
   },
   "source": [
    "En las anteriores celdas, vemos como para valores de p superiores, el ahorro gracias al paralelismo es considerable.\n",
    "\n",
    "Como último punto de KNN, buscaremos el ajuste de algunos de estos parámetros anteriores a través de **GridSearch**, de manera automatizada.\n",
    "\n",
    "Mantenemos el paralelismo puesto que para p=1 nos da un tiempo similar, y en el resto de caso, supone una mejora."
   ]
  },
  {
   "cell_type": "markdown",
   "metadata": {},
   "source": [
    "### GridSearch"
   ]
  },
  {
   "cell_type": "code",
   "execution_count": 29,
   "metadata": {},
   "outputs": [
    {
     "name": "stdout",
     "output_type": "stream",
     "text": [
      "Tiempo empleado: 135003 ms\n"
     ]
    },
    {
     "data": {
      "text/plain": [
       "{'n_neighbors': 51, 'p': 1, 'weights': 'distance'}"
      ]
     },
     "execution_count": 29,
     "metadata": {},
     "output_type": "execute_result"
    }
   ],
   "source": [
    "init = round(time.time() * 1000)\n",
    "knn = KNeighborsClassifier(n_jobs=-1)\n",
    "param_grid = {'n_neighbors': ([3, 5, 7, 21, 51, 101]),\n",
    "              'weights': ('uniform', 'distance'),\n",
    "              'p': np.arange(1, 4)}\n",
    "\n",
    "knn_gscv = GridSearchCV(knn, param_grid, cv=5, scoring='f1')\n",
    "knn_gscv.fit(X_train, y_train)\n",
    "#print(knn_gscv.score(X_test, y_test))\n",
    "end = round(time.time() * 1000)\n",
    "print('Tiempo empleado: %i ms' %(end - init))\n",
    "knn_gscv.best_params_"
   ]
  },
  {
   "cell_type": "markdown",
   "metadata": {},
   "source": [
    "Arriba podemos ver la combinación de parámetros que nos indica GridSearch como óptima en función de la métrica que le hemos indicado (F1).\n",
    "\n",
    "También hemos controlado el tiempo, puesto que esta función recorre todas las posibilidades para darnos la mejor solución, por lo que un número excesivo de parámetros y posibilidades puede hacer que este tiempo sea gigantesco."
   ]
  },
  {
   "cell_type": "code",
   "execution_count": 30,
   "metadata": {},
   "outputs": [
    {
     "data": {
      "text/plain": [
       "KNeighborsClassifier(n_jobs=-1, n_neighbors=51, p=1, weights='distance')"
      ]
     },
     "execution_count": 30,
     "metadata": {},
     "output_type": "execute_result"
    }
   ],
   "source": [
    "knn_model = KNeighborsClassifier(n_neighbors=51, weights='distance', p=1, n_jobs=-1)\n",
    "knn_model.fit(X_train, y_train)\n",
    "#cv_scores = cross_val_score(knn_model, X_train, y_train, cv=10, scoring='f1')\n",
    "#print('F1 mean: {}'.format(np.mean(cv_scores)))"
   ]
  },
  {
   "cell_type": "markdown",
   "metadata": {},
   "source": [
    "Por último, creamos y entrenamos nuestro modelo KNN con estos parámetros para la evaluación final junto a otros modelos."
   ]
  },
  {
   "cell_type": "markdown",
   "metadata": {
    "id": "n6Kr7veRpMhL"
   },
   "source": [
    "### 4.2. Support Vector Machine"
   ]
  },
  {
   "cell_type": "markdown",
   "metadata": {},
   "source": [
    "En primer lugar, tras explorar las opciones facilitadas por sklearn (nuSVC y LinearSVC), he optado por realizar el estudio únicamente a través de la clase genérica SVC. \n",
    "\n",
    "Como nuestra matriz de datos de entrada no es cuadrada, descartamos la opción 'precomputed', puesto que esta característica es una necesidad para el kernel."
   ]
  },
  {
   "cell_type": "code",
   "execution_count": 31,
   "metadata": {},
   "outputs": [],
   "source": [
    "# create all the machine learning models\n",
    "svm_models = []\n",
    "svm_models.append(('linear', SVC(kernel='linear')))\n",
    "svm_models.append(('poly', SVC(kernel='poly')))\n",
    "svm_models.append(('rbf', SVC()))#rbf por defecto\n",
    "svm_models.append(('sigmoid', SVC(kernel='sigmoid')))\n",
    "#svm_models.append(('precomputed', SVC(kernel='precomputed')))"
   ]
  },
  {
   "cell_type": "code",
   "execution_count": 32,
   "metadata": {},
   "outputs": [
    {
     "name": "stdout",
     "output_type": "stream",
     "text": [
      "linear \n",
      " Accuracy: 0.753333 \n",
      " Precision: 0.770675 \n",
      " Recall: 0.724000 \n",
      " F1: 0.745920 \n",
      " score_time: 0.097612 \n",
      " fit_time: 0.970396 \n",
      "\n",
      "poly \n",
      " Accuracy: 0.750667 \n",
      " Precision: 0.771662 \n",
      " Recall: 0.714667 \n",
      " F1: 0.741342 \n",
      " score_time: 0.110985 \n",
      " fit_time: 1.054918 \n",
      "\n",
      "rbf \n",
      " Accuracy: 0.746000 \n",
      " Precision: 0.759579 \n",
      " Recall: 0.722667 \n",
      " F1: 0.739957 \n",
      " score_time: 0.115307 \n",
      " fit_time: 1.099904 \n",
      "\n",
      "sigmoid \n",
      " Accuracy: 0.730667 \n",
      " Precision: 0.752796 \n",
      " Recall: 0.688000 \n",
      " F1: 0.718175 \n",
      " score_time: 0.121186 \n",
      " fit_time: 1.151127 \n",
      "\n"
     ]
    },
    {
     "data": {
      "image/png": "[encoded data removed]",
      "text/plain": [
       "<Figure size 432x288 with 1 Axes>"
      ]
     },
     "metadata": {
      "needs_background": "light"
     },
     "output_type": "display_data"
    }
   ],
   "source": [
    "svm_results = []\n",
    "svm_names   = []\n",
    "\n",
    "for name, model in svm_models:\n",
    "    cv_results = cross_validate(model, X_train, y_train, cv=10, scoring=['accuracy', 'precision', 'recall','f1'])\n",
    "    svm_results.append(cv_results.get('test_f1'))\n",
    "    svm_names.append(name)\n",
    "    \n",
    "    msg = \"%s \\n Accuracy: %f \\n Precision: %f \\n Recall: %f \\n F1: %f \\n score_time: %f \\n fit_time: %f \\n\" % (name, cv_results.get('test_accuracy').mean(), \n",
    "                                     cv_results.get('test_precision').mean(),\n",
    "                                     cv_results.get('test_recall').mean(),\n",
    "                                     cv_results.get('test_f1').mean(),\n",
    "                                     cv_results.get('score_time').mean(),\n",
    "                                     cv_results.get('fit_time').mean())   \n",
    "    \n",
    "    print(msg)\n",
    "\n",
    "# boxplot algorithm comparison\n",
    "fig = plt.figure()\n",
    "fig.suptitle('Machine Learning algorithm comparison')\n",
    "ax = fig.add_subplot(111)\n",
    "plt.boxplot(svm_results)\n",
    "ax.set_xticklabels(svm_names)\n",
    "plt.show()"
   ]
  },
  {
   "cell_type": "markdown",
   "metadata": {},
   "source": [
    "Como podemos observar, para nuestro caso, las opciones **'linear' 'poly'** y **'rbf'** son las más interesantes, por lo que serán estas el objeto de nuestro estudio a través de GridSearch."
   ]
  },
  {
   "cell_type": "code",
   "execution_count": 33,
   "metadata": {},
   "outputs": [
    {
     "name": "stdout",
     "output_type": "stream",
     "text": [
      "Tiempo empleado: 186039 ms\n"
     ]
    },
    {
     "data": {
      "text/plain": [
       "{'C': 1.0, 'degree': 1, 'kernel': 'linear'}"
      ]
     },
     "execution_count": 33,
     "metadata": {},
     "output_type": "execute_result"
    }
   ],
   "source": [
    "svm_model = SVC()\n",
    "param_grid = {'C': np.arange(0.8, 1.5, 0.2),\n",
    "              'kernel': ('linear','poly','rbf'),\n",
    "              'degree':np.arange(1,6,2)}\n",
    "\n",
    "init = round(time.time() * 1000)\n",
    "svm_c_gscv = GridSearchCV(svm_model, param_grid, cv=5)\n",
    "svm_c_gscv.fit(X_train, y_train)\n",
    "end = round(time.time() * 1000)\n",
    "print('Tiempo empleado: %i ms' %(end - init))\n",
    "svm_c_gscv.best_params_"
   ]
  },
  {
   "cell_type": "code",
   "execution_count": 34,
   "metadata": {},
   "outputs": [
    {
     "name": "stdout",
     "output_type": "stream",
     "text": [
      "F1 mean: 0.7459195319685874\n"
     ]
    }
   ],
   "source": [
    "svm_model = SVC(kernel = 'linear')\n",
    "cv_scores = cross_val_score(svm_model, X_train, y_train, cv=10, scoring='f1')\n",
    "print('F1 mean: {}'.format(np.mean(cv_scores)))"
   ]
  },
  {
   "cell_type": "markdown",
   "metadata": {},
   "source": [
    "Del mismo modo que hemos reseñado anteriormente, el coste computacional es algo muy a tener en cuenta.\n",
    "\n",
    "Al haber obtenido como mejores parámetros {'C': 1.0, 'degree': 1, 'kernel': 'linear'}, aunque degree es ignorado, partiremos desde ahí para comenzar a explorar algunos otros. \n",
    "\n",
    "Por ejemplo: **decision_function_shape**='ovo'\n",
    "Esta opción (one-vs-one) reemplaza a 'ovr' (one-vs-rest). Según la documentación ovo es siempre usada para clasificación multiclase, por lo que considero oportuna la prueba."
   ]
  },
  {
   "cell_type": "code",
   "execution_count": 35,
   "metadata": {},
   "outputs": [
    {
     "name": "stdout",
     "output_type": "stream",
     "text": [
      "F1 mean: 0.7459195319685874\n"
     ]
    }
   ],
   "source": [
    "svm_model = SVC(kernel = 'linear', decision_function_shape='ovo')\n",
    "cv_scores = cross_val_score(svm_model, X_train, y_train, cv=10, scoring='f1')\n",
    "print('F1 mean: {}'.format(np.mean(cv_scores)))"
   ]
  },
  {
   "cell_type": "markdown",
   "metadata": {},
   "source": [
    "Pero aparentemente, no presenta mejora"
   ]
  },
  {
   "cell_type": "code",
   "execution_count": 36,
   "metadata": {},
   "outputs": [
    {
     "name": "stdout",
     "output_type": "stream",
     "text": [
      "F1 mean: 0.7399567970742376\n"
     ]
    }
   ],
   "source": [
    "svm_model = SVC(class_weight='balanced')\n",
    "cv_scores = cross_val_score(svm_model, X_train, y_train, cv=10, scoring='f1')\n",
    "print('F1 mean: {}'.format(np.mean(cv_scores)))"
   ]
  },
  {
   "cell_type": "code",
   "execution_count": 37,
   "metadata": {},
   "outputs": [
    {
     "name": "stdout",
     "output_type": "stream",
     "text": [
      "F1 mean: 0.6780696229648583\n"
     ]
    }
   ],
   "source": [
    "svm_model = SVC(gamma='auto')\n",
    "cv_scores = cross_val_score(svm_model, X_train, y_train, cv=10, scoring='f1')\n",
    "print('F1 mean: {}'.format(np.mean(cv_scores)))"
   ]
  },
  {
   "cell_type": "markdown",
   "metadata": {},
   "source": [
    "Por último, **class_weight**='balanced' tampoco supone ninguna mejora \n",
    "\n",
    "El modo 'balanced' usa los valores de y para ajustar los pesos automáticamente de manera inversamente proporcional a la frecuencia de la clase."
   ]
  },
  {
   "cell_type": "code",
   "execution_count": 38,
   "metadata": {
    "scrolled": true
   },
   "outputs": [
    {
     "data": {
      "text/plain": [
       "SVC(kernel='linear')"
      ]
     },
     "execution_count": 38,
     "metadata": {},
     "output_type": "execute_result"
    }
   ],
   "source": [
    "svm_model = SVC(kernel = 'linear')\n",
    "svm_model.fit(X_train, y_train)\n",
    "#cv_scores = cross_val_score(svm_model, X_train, y_train, cv=10, scoring='f1')\n",
    "#print('F1 mean: {}'.format(np.mean(cv_scores)))"
   ]
  },
  {
   "cell_type": "markdown",
   "metadata": {},
   "source": [
    "Por último, al igual que con KNN, hemos creado nuestro SVM con estos parámetros para la evaluación final junto a otros modelos."
   ]
  },
  {
   "cell_type": "markdown",
   "metadata": {},
   "source": [
    "### 4.3. Naive Bayes"
   ]
  },
  {
   "cell_type": "markdown",
   "metadata": {},
   "source": [
    "Aunque en el inicio de este notebook se ha utilizado GaussianNB para las pruebas generales, en este apartado profundizaremos inicialmente un poco más en el resto de opciones que nos proporciona sklearn."
   ]
  },
  {
   "cell_type": "code",
   "execution_count": 39,
   "metadata": {},
   "outputs": [],
   "source": [
    "from sklearn.naive_bayes import MultinomialNB, ComplementNB, BernoulliNB"
   ]
  },
  {
   "cell_type": "code",
   "execution_count": 40,
   "metadata": {},
   "outputs": [],
   "source": [
    "nb_models = {\n",
    "    'GaussianNB': GaussianNB(),\n",
    "    'MultinomialNB': MultinomialNB(),\n",
    "    'ComplementNB': ComplementNB(),\n",
    "    'BernoulliNB': BernoulliNB(),\n",
    "}"
   ]
  },
  {
   "cell_type": "code",
   "execution_count": 41,
   "metadata": {
    "scrolled": false
   },
   "outputs": [
    {
     "name": "stdout",
     "output_type": "stream",
     "text": [
      "GaussianNB \n",
      " Accuracy: 0.567333 \n",
      " Precision: 0.648235 \n",
      " Recall: 0.293333 \n",
      " F1: 0.401930 \n",
      " score_time: 0.003789 \n",
      " fit_time: 0.023504 \n",
      "\n",
      "MultinomialNB \n",
      " Accuracy: 0.696000 \n",
      " Precision: 0.714296 \n",
      " Recall: 0.656000 \n",
      " F1: 0.682893 \n",
      " score_time: 0.002696 \n",
      " fit_time: 0.007204 \n",
      "\n",
      "ComplementNB \n",
      " Accuracy: 0.696000 \n",
      " Precision: 0.714296 \n",
      " Recall: 0.656000 \n",
      " F1: 0.682893 \n",
      " score_time: 0.002999 \n",
      " fit_time: 0.006501 \n",
      "\n",
      "BernoulliNB \n",
      " Accuracy: 0.662000 \n",
      " Precision: 0.663693 \n",
      " Recall: 0.662667 \n",
      " F1: 0.661173 \n",
      " score_time: 0.003399 \n",
      " fit_time: 0.015301 \n",
      "\n"
     ]
    },
    {
     "data": {
      "image/png": "[encoded data removed]",
      "text/plain": [
       "<Figure size 432x288 with 1 Axes>"
      ]
     },
     "metadata": {
      "needs_background": "light"
     },
     "output_type": "display_data"
    }
   ],
   "source": [
    "nb_results = []\n",
    "nb_names   = []\n",
    "\n",
    "\n",
    "for model_key, model_value in nb_models.items():   \n",
    "    cv_results = cross_validate(model_value, X_train, y_train, cv=10, scoring=['accuracy', 'precision', 'recall','f1'])\n",
    "    nb_results.append(cv_results.get('test_f1'))\n",
    "    nb_names.append(model_key)\n",
    "    \n",
    "    msg = \"%s \\n Accuracy: %f \\n Precision: %f \\n Recall: %f \\n F1: %f \\n score_time: %f \\n fit_time: %f \\n\" % (model_key, cv_results.get('test_accuracy').mean(), \n",
    "                                     cv_results.get('test_precision').mean(),\n",
    "                                     cv_results.get('test_recall').mean(),\n",
    "                                     cv_results.get('test_f1').mean(),\n",
    "                                     cv_results.get('score_time').mean(),\n",
    "                                     cv_results.get('fit_time').mean())   \n",
    "    \n",
    "    print(msg)\n",
    "\n",
    "# boxplot algorithm comparison\n",
    "fig = plt.figure()\n",
    "fig.suptitle('Naive Bayes algorithm comparison')\n",
    "ax = fig.add_subplot(111)\n",
    "plt.boxplot(nb_results)\n",
    "ax.set_xticklabels(nb_names)\n",
    "plt.show()\n",
    "\n"
   ]
  },
  {
   "cell_type": "markdown",
   "metadata": {},
   "source": [
    "Viendo los resultados obtenidos, optamos por descartar GaussianNB."
   ]
  },
  {
   "cell_type": "code",
   "execution_count": 42,
   "metadata": {},
   "outputs": [],
   "source": [
    "del nb_models['GaussianNB']"
   ]
  },
  {
   "cell_type": "code",
   "execution_count": 43,
   "metadata": {},
   "outputs": [],
   "source": [
    "# the optimisation parameters for each of the above models\n",
    "nb_params = {\n",
    "    'MultinomialNB':{ \n",
    "            \"alpha\"      : np.arange(0,1,0.1),\n",
    "            \"fit_prior\"       : ('True', 'False')        \n",
    "            },\n",
    "    'ComplementNB': {\n",
    "            \"alpha\"      : np.arange(0,1,0.1),\n",
    "            \"fit_prior\"  : ('True', 'False'),        \n",
    "            \"norm\"       : ('True', 'False')\n",
    "        },\n",
    "    'BernoulliNB': {\n",
    "            \"alpha\"      : np.arange(0,1,0.1),\n",
    "            \"fit_prior\"       : ('True', 'False')        \n",
    "        }  \n",
    "}"
   ]
  },
  {
   "cell_type": "code",
   "execution_count": 44,
   "metadata": {},
   "outputs": [
    {
     "name": "stdout",
     "output_type": "stream",
     "text": [
      "MultinomialNB(alpha=0.5, fit_prior='True') F1: 0.714187\n",
      "ComplementNB(alpha=0.9, fit_prior='True', norm='True') F1: 0.643879\n",
      "BernoulliNB(alpha=0.9, fit_prior='True') F1: 0.679521\n"
     ]
    }
   ],
   "source": [
    "f1=0\n",
    "for name in nb_models.keys():\n",
    "    est = nb_models[name]\n",
    "    est_params = nb_params[name]\n",
    "    gscv = GridSearchCV(estimator=est, param_grid=est_params, cv=10, scoring='f1')\n",
    "    gscv.fit(X_train, y_train)\n",
    "    if gscv.score(X_train, y_train) > f1:\n",
    "        best = gscv\n",
    "        f1=gscv.score(X_train, y_train)\n",
    "    print('%s F1: %f'%(gscv.best_estimator_,gscv.score(X_train, y_train)))    "
   ]
  },
  {
   "cell_type": "markdown",
   "metadata": {},
   "source": [
    "Al igual que en casos anteriores, seleccionamos la configuración recomendada"
   ]
  },
  {
   "cell_type": "code",
   "execution_count": 45,
   "metadata": {},
   "outputs": [
    {
     "data": {
      "text/plain": [
       "MultinomialNB(alpha=0.5, fit_prior='True')"
      ]
     },
     "execution_count": 45,
     "metadata": {},
     "output_type": "execute_result"
    }
   ],
   "source": [
    "nb_model = MultinomialNB(alpha=0.5, fit_prior='True')\n",
    "nb_model.fit(X_train, y_train)"
   ]
  },
  {
   "cell_type": "markdown",
   "metadata": {},
   "source": [
    "Como comentario final para este apartado sobre los métodos Bayesianos, estos cobran especial importancia cuando tenemos cierta información agregada como posibles desbalanceos o frecuencias de aparición, no siendo este el caso.\n",
    "\n",
    "Una posible simulación de este hecho con modificación de los datos de test y entrenamiento queda pendiente para próximos estudios."
   ]
  },
  {
   "cell_type": "markdown",
   "metadata": {
    "id": "CibVUaY43meJ"
   },
   "source": [
    "# 5. EVALUACIÓN DEL MODELADO"
   ]
  },
  {
   "cell_type": "markdown",
   "metadata": {},
   "source": [
    "### Seleccionamos los modelos\n"
   ]
  },
  {
   "cell_type": "code",
   "execution_count": 46,
   "metadata": {},
   "outputs": [
    {
     "name": "stdout",
     "output_type": "stream",
     "text": [
      "KNN \n",
      " Accuracy: 0.721333 \n",
      " Precision: 0.702689 \n",
      " Recall: 0.766667 \n",
      " F1: 0.732526 \n",
      " score_time: 0.202191 \n",
      " fit_time: 0.137062 \n",
      "\n",
      "SVM \n",
      " Accuracy: 0.753333 \n",
      " Precision: 0.770675 \n",
      " Recall: 0.724000 \n",
      " F1: 0.745920 \n",
      " score_time: 0.093706 \n",
      " fit_time: 0.946674 \n",
      "\n",
      "NB \n",
      " Accuracy: 0.697333 \n",
      " Precision: 0.713449 \n",
      " Recall: 0.662667 \n",
      " F1: 0.686025 \n",
      " score_time: 0.002794 \n",
      " fit_time: 0.006705 \n",
      "\n"
     ]
    },
    {
     "data": {
      "image/png": "[encoded data removed]",
      "text/plain": [
       "<Figure size 432x288 with 1 Axes>"
      ]
     },
     "metadata": {
      "needs_background": "light"
     },
     "output_type": "display_data"
    }
   ],
   "source": [
    "final_models = []\n",
    "\n",
    "final_models.append(('KNN',knn_model))\n",
    "final_models.append(('SVM',svm_model))\n",
    "final_models.append(('NB',nb_model))\n",
    "\n",
    "final_results = []\n",
    "final_names   = []\n",
    "\n",
    "for name, model in final_models:\n",
    "    cv_results = cross_validate(model, X_train, y_train, cv=10, scoring=['accuracy', 'precision', 'recall','f1'])\n",
    "    final_results.append(cv_results.get('test_f1'))\n",
    "    final_names.append(name)\n",
    "    \n",
    "    msg = \"%s \\n Accuracy: %f \\n Precision: %f \\n Recall: %f \\n F1: %f \\n score_time: %f \\n fit_time: %f \\n\" % (name, cv_results.get('test_accuracy').mean(), \n",
    "                                     cv_results.get('test_precision').mean(),\n",
    "                                     cv_results.get('test_recall').mean(),\n",
    "                                     cv_results.get('test_f1').mean(),\n",
    "                                     cv_results.get('score_time').mean(),\n",
    "                                     cv_results.get('fit_time').mean())   \n",
    "    \n",
    "    print(msg)\n",
    "\n",
    "# boxplot algorithm comparison\n",
    "fig = plt.figure()\n",
    "fig.suptitle('Final algorithm comparison')\n",
    "ax = fig.add_subplot(111)\n",
    "plt.boxplot(final_results)\n",
    "ax.set_xticklabels(final_names)\n",
    "plt.show()"
   ]
  },
  {
   "cell_type": "markdown",
   "metadata": {},
   "source": [
    "Pero estos valores, son con respecto a su entrenamiento y validación, ahora pasaremos a comprobar sobre el set de test."
   ]
  },
  {
   "cell_type": "code",
   "execution_count": 47,
   "metadata": {},
   "outputs": [],
   "source": [
    "y_pred_knn_model = knn_model.predict(X_test)\n",
    "y_pred_svm_model = svm_model.predict(X_test)\n",
    "y_pred_nb_model = nb_model.predict(X_test)"
   ]
  },
  {
   "cell_type": "markdown",
   "metadata": {
    "id": "f0aeHG-2pMhM"
   },
   "source": [
    "### Matriz de confusión\n"
   ]
  },
  {
   "cell_type": "code",
   "execution_count": 48,
   "metadata": {},
   "outputs": [
    {
     "name": "stdout",
     "output_type": "stream",
     "text": [
      "KNN\n",
      "[[67 33]\n",
      " [16 84]]\n",
      "SVM\n",
      "[[63 37]\n",
      " [10 90]]\n",
      "NB\n",
      "[[73 27]\n",
      " [22 78]]\n"
     ]
    }
   ],
   "source": [
    "print(\"KNN\")\n",
    "print(confusion_matrix(y_test, y_pred_knn_model))\n",
    "print(\"SVM\")\n",
    "print(confusion_matrix(y_test, y_pred_svm_model))\n",
    "print(\"NB\")\n",
    "print(confusion_matrix(y_test, y_pred_nb_model))"
   ]
  },
  {
   "cell_type": "markdown",
   "metadata": {},
   "source": [
    "### Informe de clasificación"
   ]
  },
  {
   "cell_type": "code",
   "execution_count": 49,
   "metadata": {},
   "outputs": [
    {
     "name": "stdout",
     "output_type": "stream",
     "text": [
      "KNN\n",
      "                precision    recall  f1-score   support\n",
      "\n",
      "   carrot_cake       0.81      0.67      0.73       100\n",
      "chocolate_cake       0.72      0.84      0.77       100\n",
      "\n",
      "      accuracy                           0.76       200\n",
      "     macro avg       0.76      0.76      0.75       200\n",
      "  weighted avg       0.76      0.76      0.75       200\n",
      "\n",
      "SVM\n",
      "                precision    recall  f1-score   support\n",
      "\n",
      "   carrot_cake       0.86      0.63      0.73       100\n",
      "chocolate_cake       0.71      0.90      0.79       100\n",
      "\n",
      "      accuracy                           0.77       200\n",
      "     macro avg       0.79      0.77      0.76       200\n",
      "  weighted avg       0.79      0.77      0.76       200\n",
      "\n",
      "NB\n",
      "                precision    recall  f1-score   support\n",
      "\n",
      "   carrot_cake       0.77      0.73      0.75       100\n",
      "chocolate_cake       0.74      0.78      0.76       100\n",
      "\n",
      "      accuracy                           0.76       200\n",
      "     macro avg       0.76      0.76      0.75       200\n",
      "  weighted avg       0.76      0.76      0.75       200\n",
      "\n"
     ]
    }
   ],
   "source": [
    "print(\"KNN\")\n",
    "print(classification_report(y_test, y_pred_knn_model, target_names = class_label.keys()))\n",
    "print(\"SVM\")\n",
    "print(classification_report(y_test, y_pred_svm_model, target_names = class_label.keys()))\n",
    "print(\"NB\")\n",
    "print(classification_report(y_test, y_pred_nb_model, target_names = class_label.keys()))"
   ]
  },
  {
   "cell_type": "markdown",
   "metadata": {
    "id": "7taF5YWo5un9"
   },
   "source": [
    "#### ¿Esta balanceado nuestro modelo? ¿Por qué lo sabemos?\n",
    "Sin ser unos valores excepcionales, los valores de precisión y recall son altos, y similares. Por lo que podemos concluir que nuestro modelo está balanceado."
   ]
  },
  {
   "cell_type": "markdown",
   "metadata": {
    "id": "f0aeHG-2pMhM"
   },
   "source": [
    "### ROC / AUC\n"
   ]
  },
  {
   "cell_type": "code",
   "execution_count": 50,
   "metadata": {
    "scrolled": false
   },
   "outputs": [
    {
     "data": {
      "image/png": "[encoded data removed]",
      "text/plain": [
       "<Figure size 432x288 with 1 Axes>"
      ]
     },
     "metadata": {
      "needs_background": "light"
     },
     "output_type": "display_data"
    },
    {
     "data": {
      "image/png": "[encoded data removed]",
      "text/plain": [
       "<Figure size 432x288 with 1 Axes>"
      ]
     },
     "metadata": {
      "needs_background": "light"
     },
     "output_type": "display_data"
    },
    {
     "data": {
      "image/png": "[encoded data removed]",
      "text/plain": [
       "<Figure size 432x288 with 1 Axes>"
      ]
     },
     "metadata": {
      "needs_background": "light"
     },
     "output_type": "display_data"
    }
   ],
   "source": [
    "plot_roc_curve(knn_model, X_test, y_test)  \n",
    "plot_roc_curve(svm_model, X_test, y_test)  \n",
    "plot_roc_curve(nb_model, X_test, y_test)  \n",
    "\n",
    "plt.show()        "
   ]
  },
  {
   "cell_type": "markdown",
   "metadata": {},
   "source": [
    "Por último, percibimos de una manera más visual la relación entre nuestros TP y FP"
   ]
  }
 ],
 "metadata": {
  "colab": {
   "name": "template_module2.ipynb",
   "provenance": []
  },
  "kernelspec": {
   "display_name": "Python 3",
   "language": "python",
   "name": "python3"
  },
  "language_info": {
   "codemirror_mode": {
    "name": "ipython",
    "version": 3
   },
   "file_extension": ".py",
   "mimetype": "text/x-python",
   "name": "python",
   "nbconvert_exporter": "python",
   "pygments_lexer": "ipython3",
   "version": "3.8.5"
  }
 },
 "nbformat": 4,
 "nbformat_minor": 4
}
